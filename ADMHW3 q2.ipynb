{
 "cells": [
  {
   "cell_type": "code",
   "execution_count": 1,
   "id": "e1613a08",
   "metadata": {},
   "outputs": [],
   "source": [
    "import numpy as np\n",
    "import pandas as pd\n",
    "import nltk.corpus\n",
    "from nltk.corpus import stopwords\n",
    "from cleantext import clean\n",
    "from nltk.stem import PorterStemmer\n",
    "from nltk.tokenize import word_tokenize\n",
    "import nltk\n",
    "import re\n",
    "import math\n",
    "from collections import Counter\n",
    "import json\n"
   ]
  },
  {
   "cell_type": "markdown",
   "id": "7111b73a",
   "metadata": {},
   "source": [
    "# 2. Search Engine"
   ]
  },
  {
   "cell_type": "markdown",
   "id": "a9dd38ee",
   "metadata": {},
   "source": [
    "### Pre-processing"
   ]
  },
  {
   "cell_type": "code",
   "execution_count": 2,
   "id": "cdd10549",
   "metadata": {},
   "outputs": [],
   "source": [
    "stop = stopwords.words('english') #stopwords in english \n",
    "ps = PorterStemmer() #takes the stem of words\n",
    "def clean_text(text): \n",
    "    text.lower  #case normalization\n",
    "    text = re.sub(r\"(@\\[A-Za-z0-9]+)|([^0-9A-Za-z \\t])|(\\w+:\\/\\/\\S+)|^rt|http.+?\", \"\", text)  #removing unicode characters\n",
    "    text = \" \".join([word for word in text.split() if word not in stop and word.isalpha() == True]) #removing stopwords and 'numerical term\n",
    "    token = word_tokenize(text) #tokenization\n",
    "    text = [ps.stem(t) for t in token] #stemming and removing non english words\n",
    "    return(\" \".join(text))"
   ]
  },
  {
   "cell_type": "markdown",
   "id": "920ac1cf",
   "metadata": {},
   "source": [
    "## 2.1. Conjunctive query\n",
    "### 2.1.1 Create your index!\n"
   ]
  },
  {
   "cell_type": "code",
   "execution_count": 3,
   "id": "da7cb963",
   "metadata": {},
   "outputs": [
    {
     "name": "stderr",
     "output_type": "stream",
     "text": [
      "C:\\Users\\PC\\AppData\\Local\\Temp\\ipykernel_6480\\3779950365.py:6: SettingWithCopyWarning: \n",
      "A value is trying to be set on a copy of a slice from a DataFrame\n",
      "\n",
      "See the caveats in the documentation: https://pandas.pydata.org/pandas-docs/stable/user_guide/indexing.html#returning-a-view-versus-a-copy\n",
      "  df.loc[:,\"placeDesc\"][x]=clean_text(i)\n"
     ]
    }
   ],
   "source": [
    "df_for_last=pd.read_csv(r'C:\\Users\\PC\\Desktop\\places.tsv', sep='\\t') # reading the places with pandas\n",
    "df=df_for_last.copy()\n",
    "df=df[0:20]#temporary\n",
    "\n",
    "for x,i in enumerate(df.loc[:,\"placeDesc\"]): #cleaning all text in  column\n",
    "    df.loc[:,\"placeDesc\"][x]=clean_text(i)\n",
    "    \n",
    "word_list=[] \n",
    "string=\"\"\n",
    "for i in df.loc[:,\"placeDesc\"]: #string containing all words in the description descriptions to \n",
    "    string=string+i+\" \"\n",
    "word_list.append(string) \n",
    "word_list=word_list[0].split()# getting wordlist out of the list and splitting all words and putting into a set to remove duplicates\n",
    "word_list_set=set(word_list)\n",
    "\n"
   ]
  },
  {
   "cell_type": "code",
   "execution_count": 4,
   "id": "57773261",
   "metadata": {},
   "outputs": [],
   "source": [
    "#a=Counter(word_list)\n",
    "#word frequency\n"
   ]
  },
  {
   "cell_type": "markdown",
   "id": "8b4e9632",
   "metadata": {},
   "source": [
    "### Creating a dictionary "
   ]
  },
  {
   "cell_type": "code",
   "execution_count": 5,
   "id": "833aef97",
   "metadata": {},
   "outputs": [
    {
     "data": {
      "text/plain": [
       "{'noir': 'termId_0',\n",
       " 'impos': 'termId_1',\n",
       " 'granit': 'termId_2',\n",
       " 'photo': 'termId_3',\n",
       " 'treat': 'termId_4',\n",
       " 'poster': 'termId_5',\n",
       " 'stretch': 'termId_6',\n",
       " 'landmark': 'termId_7',\n",
       " 'old': 'termId_8',\n",
       " 'beard': 'termId_9'}"
      ]
     },
     "execution_count": 5,
     "metadata": {},
     "output_type": "execute_result"
    }
   ],
   "source": [
    "dictionary={i[1]:f\"termId_{i[0]}\" for i in enumerate(word_list_set)}#creates a dictionary from the set of words with term ids\n",
    "dict(list(dictionary.items())[0:10])"
   ]
  },
  {
   "cell_type": "markdown",
   "id": "51c816ef",
   "metadata": {},
   "source": [
    "### Creating an inverted index"
   ]
  },
  {
   "cell_type": "code",
   "execution_count": 6,
   "id": "ebb331cf",
   "metadata": {},
   "outputs": [
    {
     "data": {
      "text/plain": [
       "{'termId_0': ['document_4'],\n",
       " 'termId_1': ['document_1'],\n",
       " 'termId_2': ['document_3'],\n",
       " 'termId_3': ['document_10', 'document_12', 'document_13'],\n",
       " 'termId_4': ['document_18']}"
      ]
     },
     "execution_count": 6,
     "metadata": {},
     "output_type": "execute_result"
    }
   ],
   "source": [
    "inverted_index={i:[] for i in dictionary.values()}\n",
    "for x,y in enumerate(df.loc[:,\"placeDesc\"]):\n",
    "    for i in y.split():\n",
    "        if f\"document_{x}\" not in inverted_index[dictionary[i]]:\n",
    "            inverted_index[dictionary[i]].append(f\"document_{x}\")\n",
    "dict(list(inverted_index.items())[0:5])"
   ]
  },
  {
   "cell_type": "markdown",
   "id": "79ac6cae",
   "metadata": {},
   "source": [
    "#### Saving inverted index into a json file"
   ]
  },
  {
   "cell_type": "code",
   "execution_count": 7,
   "id": "89f1fc63",
   "metadata": {},
   "outputs": [],
   "source": [
    "with open(r\"C:\\Users\\PC\\Desktop\\data.json\", 'w') as fp: \n",
    "    json.dump(dictionary, fp)"
   ]
  },
  {
   "cell_type": "markdown",
   "id": "0e37937e",
   "metadata": {},
   "source": [
    "### 2.1.2 Execute the query"
   ]
  },
  {
   "cell_type": "code",
   "execution_count": 8,
   "id": "332f89cb",
   "metadata": {},
   "outputs": [],
   "source": [
    "query_input='new york'\n",
    "#query_input=input(print(\"query\"))"
   ]
  },
  {
   "cell_type": "markdown",
   "id": "2294b012",
   "metadata": {},
   "source": [
    "documents which include all words in the query input"
   ]
  },
  {
   "cell_type": "code",
   "execution_count": 9,
   "id": "ff52b9a8",
   "metadata": {},
   "outputs": [
    {
     "data": {
      "text/plain": [
       "['document_18', 'document_0', 'document_19']"
      ]
     },
     "execution_count": 9,
     "metadata": {},
     "output_type": "execute_result"
    }
   ],
   "source": [
    "return_list=[]\n",
    "for i in query_input.split():\n",
    "    term=dictionary[i]\n",
    "    return_list.append(set(inverted_index[term]))\n",
    "inter=[i for i in set.intersection(*return_list)]\n",
    "inter"
   ]
  },
  {
   "cell_type": "markdown",
   "id": "6491886d",
   "metadata": {},
   "source": [
    "### results of documents with query "
   ]
  },
  {
   "cell_type": "code",
   "execution_count": 10,
   "id": "38b2ff08",
   "metadata": {},
   "outputs": [
    {
     "data": {
      "text/html": [
       "<div>\n",
       "<style scoped>\n",
       "    .dataframe tbody tr th:only-of-type {\n",
       "        vertical-align: middle;\n",
       "    }\n",
       "\n",
       "    .dataframe tbody tr th {\n",
       "        vertical-align: top;\n",
       "    }\n",
       "\n",
       "    .dataframe thead th {\n",
       "        text-align: right;\n",
       "    }\n",
       "</style>\n",
       "<table border=\"1\" class=\"dataframe\">\n",
       "  <thead>\n",
       "    <tr style=\"text-align: right;\">\n",
       "      <th></th>\n",
       "      <th>placeName</th>\n",
       "      <th>placeDesc</th>\n",
       "      <th>placeURL</th>\n",
       "    </tr>\n",
       "  </thead>\n",
       "  <tbody>\n",
       "    <tr>\n",
       "      <th>18</th>\n",
       "      <td>Roosevelt Island Smallpox Hospital Ruins</td>\n",
       "      <td>Few diseases have had a greater impact on the ...</td>\n",
       "      <td>https://www.atlasobscura.com/places/roosevelt-...</td>\n",
       "    </tr>\n",
       "    <tr>\n",
       "      <th>0</th>\n",
       "      <td>City Hall Station</td>\n",
       "      <td>The first New York City subway was built and o...</td>\n",
       "      <td>https://www.atlasobscura.com/places/city-hall-...</td>\n",
       "    </tr>\n",
       "    <tr>\n",
       "      <th>19</th>\n",
       "      <td>Eastern State Penitentiary</td>\n",
       "      <td>Thrust into the middle of urban Philadephia is...</td>\n",
       "      <td>https://www.atlasobscura.com/places/eastern-st...</td>\n",
       "    </tr>\n",
       "  </tbody>\n",
       "</table>\n",
       "</div>"
      ],
      "text/plain": [
       "                                   placeName  \\\n",
       "18  Roosevelt Island Smallpox Hospital Ruins   \n",
       "0                          City Hall Station   \n",
       "19                Eastern State Penitentiary   \n",
       "\n",
       "                                            placeDesc  \\\n",
       "18  Few diseases have had a greater impact on the ...   \n",
       "0   The first New York City subway was built and o...   \n",
       "19  Thrust into the middle of urban Philadephia is...   \n",
       "\n",
       "                                             placeURL  \n",
       "18  https://www.atlasobscura.com/places/roosevelt-...  \n",
       "0   https://www.atlasobscura.com/places/city-hall-...  \n",
       "19  https://www.atlasobscura.com/places/eastern-st...  "
      ]
     },
     "execution_count": 10,
     "metadata": {},
     "output_type": "execute_result"
    }
   ],
   "source": [
    "df_for_last.loc[[int(i.split(\"_\")[1]) for i in inter],[\"placeName\",\"placeDesc\",\"placeURL\"]]"
   ]
  },
  {
   "cell_type": "markdown",
   "id": "8fc15469",
   "metadata": {},
   "source": [
    "# 2.2) Conjunctive query & Ranking score\n"
   ]
  },
  {
   "cell_type": "markdown",
   "id": "66e55329",
   "metadata": {},
   "source": [
    "## 2.2.1) Inverted index\n"
   ]
  },
  {
   "cell_type": "code",
   "execution_count": 11,
   "id": "871b41df",
   "metadata": {},
   "outputs": [
    {
     "data": {
      "text/plain": [
       "['the',\n",
       " 'first',\n",
       " 'new',\n",
       " 'york',\n",
       " 'citi',\n",
       " 'subway',\n",
       " 'built',\n",
       " 'oper',\n",
       " 'interborough',\n",
       " 'rapid']"
      ]
     },
     "execution_count": 11,
     "metadata": {},
     "output_type": "execute_result"
    }
   ],
   "source": [
    "word_list[:10]"
   ]
  },
  {
   "cell_type": "markdown",
   "id": "f38566df",
   "metadata": {},
   "source": [
    "#### TF's of documents"
   ]
  },
  {
   "cell_type": "code",
   "execution_count": 12,
   "id": "9e5763ff",
   "metadata": {},
   "outputs": [
    {
     "data": {
      "text/html": [
       "<div>\n",
       "<style scoped>\n",
       "    .dataframe tbody tr th:only-of-type {\n",
       "        vertical-align: middle;\n",
       "    }\n",
       "\n",
       "    .dataframe tbody tr th {\n",
       "        vertical-align: top;\n",
       "    }\n",
       "\n",
       "    .dataframe thead th {\n",
       "        text-align: right;\n",
       "    }\n",
       "</style>\n",
       "<table border=\"1\" class=\"dataframe\">\n",
       "  <thead>\n",
       "    <tr style=\"text-align: right;\">\n",
       "      <th></th>\n",
       "      <th>the</th>\n",
       "      <th>first</th>\n",
       "      <th>new</th>\n",
       "      <th>york</th>\n",
       "      <th>citi</th>\n",
       "      <th>subway</th>\n",
       "      <th>built</th>\n",
       "      <th>oper</th>\n",
       "      <th>interborough</th>\n",
       "      <th>rapid</th>\n",
       "      <th>...</th>\n",
       "      <th>steve</th>\n",
       "      <th>buscemi</th>\n",
       "      <th>penitentiari</th>\n",
       "      <th>upris</th>\n",
       "      <th>winter</th>\n",
       "      <th>bastil</th>\n",
       "      <th>celebr</th>\n",
       "      <th>halloween</th>\n",
       "      <th>tourobscura</th>\n",
       "      <th>april</th>\n",
       "    </tr>\n",
       "  </thead>\n",
       "  <tbody>\n",
       "    <tr>\n",
       "      <th>0</th>\n",
       "      <td>0.010204</td>\n",
       "      <td>0.005102</td>\n",
       "      <td>0.015306</td>\n",
       "      <td>0.015306</td>\n",
       "      <td>0.030612</td>\n",
       "      <td>0.005102</td>\n",
       "      <td>0.005102</td>\n",
       "      <td>0.005102</td>\n",
       "      <td>0.005102</td>\n",
       "      <td>0.005102</td>\n",
       "      <td>...</td>\n",
       "      <td>0.0</td>\n",
       "      <td>0.0</td>\n",
       "      <td>0.0</td>\n",
       "      <td>0.0</td>\n",
       "      <td>0.0</td>\n",
       "      <td>0.0</td>\n",
       "      <td>0.0</td>\n",
       "      <td>0.0</td>\n",
       "      <td>0.0</td>\n",
       "      <td>0.0</td>\n",
       "    </tr>\n",
       "    <tr>\n",
       "      <th>1</th>\n",
       "      <td>0.003390</td>\n",
       "      <td>0.003390</td>\n",
       "      <td>0.000000</td>\n",
       "      <td>0.000000</td>\n",
       "      <td>0.006780</td>\n",
       "      <td>0.000000</td>\n",
       "      <td>0.000000</td>\n",
       "      <td>0.000000</td>\n",
       "      <td>0.000000</td>\n",
       "      <td>0.000000</td>\n",
       "      <td>...</td>\n",
       "      <td>0.0</td>\n",
       "      <td>0.0</td>\n",
       "      <td>0.0</td>\n",
       "      <td>0.0</td>\n",
       "      <td>0.0</td>\n",
       "      <td>0.0</td>\n",
       "      <td>0.0</td>\n",
       "      <td>0.0</td>\n",
       "      <td>0.0</td>\n",
       "      <td>0.0</td>\n",
       "    </tr>\n",
       "    <tr>\n",
       "      <th>2</th>\n",
       "      <td>0.017241</td>\n",
       "      <td>0.000000</td>\n",
       "      <td>0.000000</td>\n",
       "      <td>0.000000</td>\n",
       "      <td>0.000000</td>\n",
       "      <td>0.000000</td>\n",
       "      <td>0.000000</td>\n",
       "      <td>0.000000</td>\n",
       "      <td>0.000000</td>\n",
       "      <td>0.000000</td>\n",
       "      <td>...</td>\n",
       "      <td>0.0</td>\n",
       "      <td>0.0</td>\n",
       "      <td>0.0</td>\n",
       "      <td>0.0</td>\n",
       "      <td>0.0</td>\n",
       "      <td>0.0</td>\n",
       "      <td>0.0</td>\n",
       "      <td>0.0</td>\n",
       "      <td>0.0</td>\n",
       "      <td>0.0</td>\n",
       "    </tr>\n",
       "    <tr>\n",
       "      <th>3</th>\n",
       "      <td>0.017544</td>\n",
       "      <td>0.000000</td>\n",
       "      <td>0.000000</td>\n",
       "      <td>0.000000</td>\n",
       "      <td>0.005848</td>\n",
       "      <td>0.000000</td>\n",
       "      <td>0.011696</td>\n",
       "      <td>0.000000</td>\n",
       "      <td>0.000000</td>\n",
       "      <td>0.000000</td>\n",
       "      <td>...</td>\n",
       "      <td>0.0</td>\n",
       "      <td>0.0</td>\n",
       "      <td>0.0</td>\n",
       "      <td>0.0</td>\n",
       "      <td>0.0</td>\n",
       "      <td>0.0</td>\n",
       "      <td>0.0</td>\n",
       "      <td>0.0</td>\n",
       "      <td>0.0</td>\n",
       "      <td>0.0</td>\n",
       "    </tr>\n",
       "    <tr>\n",
       "      <th>4</th>\n",
       "      <td>0.010526</td>\n",
       "      <td>0.002632</td>\n",
       "      <td>0.000000</td>\n",
       "      <td>0.000000</td>\n",
       "      <td>0.002632</td>\n",
       "      <td>0.000000</td>\n",
       "      <td>0.002632</td>\n",
       "      <td>0.000000</td>\n",
       "      <td>0.000000</td>\n",
       "      <td>0.000000</td>\n",
       "      <td>...</td>\n",
       "      <td>0.0</td>\n",
       "      <td>0.0</td>\n",
       "      <td>0.0</td>\n",
       "      <td>0.0</td>\n",
       "      <td>0.0</td>\n",
       "      <td>0.0</td>\n",
       "      <td>0.0</td>\n",
       "      <td>0.0</td>\n",
       "      <td>0.0</td>\n",
       "      <td>0.0</td>\n",
       "    </tr>\n",
       "    <tr>\n",
       "      <th>5</th>\n",
       "      <td>0.000000</td>\n",
       "      <td>0.000000</td>\n",
       "      <td>0.000000</td>\n",
       "      <td>0.000000</td>\n",
       "      <td>0.000000</td>\n",
       "      <td>0.000000</td>\n",
       "      <td>0.000000</td>\n",
       "      <td>0.000000</td>\n",
       "      <td>0.000000</td>\n",
       "      <td>0.000000</td>\n",
       "      <td>...</td>\n",
       "      <td>0.0</td>\n",
       "      <td>0.0</td>\n",
       "      <td>0.0</td>\n",
       "      <td>0.0</td>\n",
       "      <td>0.0</td>\n",
       "      <td>0.0</td>\n",
       "      <td>0.0</td>\n",
       "      <td>0.0</td>\n",
       "      <td>0.0</td>\n",
       "      <td>0.0</td>\n",
       "    </tr>\n",
       "    <tr>\n",
       "      <th>6</th>\n",
       "      <td>0.011236</td>\n",
       "      <td>0.000000</td>\n",
       "      <td>0.000000</td>\n",
       "      <td>0.000000</td>\n",
       "      <td>0.000000</td>\n",
       "      <td>0.000000</td>\n",
       "      <td>0.000000</td>\n",
       "      <td>0.000000</td>\n",
       "      <td>0.000000</td>\n",
       "      <td>0.000000</td>\n",
       "      <td>...</td>\n",
       "      <td>0.0</td>\n",
       "      <td>0.0</td>\n",
       "      <td>0.0</td>\n",
       "      <td>0.0</td>\n",
       "      <td>0.0</td>\n",
       "      <td>0.0</td>\n",
       "      <td>0.0</td>\n",
       "      <td>0.0</td>\n",
       "      <td>0.0</td>\n",
       "      <td>0.0</td>\n",
       "    </tr>\n",
       "    <tr>\n",
       "      <th>7</th>\n",
       "      <td>0.000000</td>\n",
       "      <td>0.000000</td>\n",
       "      <td>0.000000</td>\n",
       "      <td>0.000000</td>\n",
       "      <td>0.017751</td>\n",
       "      <td>0.005917</td>\n",
       "      <td>0.000000</td>\n",
       "      <td>0.000000</td>\n",
       "      <td>0.000000</td>\n",
       "      <td>0.000000</td>\n",
       "      <td>...</td>\n",
       "      <td>0.0</td>\n",
       "      <td>0.0</td>\n",
       "      <td>0.0</td>\n",
       "      <td>0.0</td>\n",
       "      <td>0.0</td>\n",
       "      <td>0.0</td>\n",
       "      <td>0.0</td>\n",
       "      <td>0.0</td>\n",
       "      <td>0.0</td>\n",
       "      <td>0.0</td>\n",
       "    </tr>\n",
       "    <tr>\n",
       "      <th>8</th>\n",
       "      <td>0.020833</td>\n",
       "      <td>0.000000</td>\n",
       "      <td>0.000000</td>\n",
       "      <td>0.000000</td>\n",
       "      <td>0.010417</td>\n",
       "      <td>0.000000</td>\n",
       "      <td>0.000000</td>\n",
       "      <td>0.000000</td>\n",
       "      <td>0.000000</td>\n",
       "      <td>0.000000</td>\n",
       "      <td>...</td>\n",
       "      <td>0.0</td>\n",
       "      <td>0.0</td>\n",
       "      <td>0.0</td>\n",
       "      <td>0.0</td>\n",
       "      <td>0.0</td>\n",
       "      <td>0.0</td>\n",
       "      <td>0.0</td>\n",
       "      <td>0.0</td>\n",
       "      <td>0.0</td>\n",
       "      <td>0.0</td>\n",
       "    </tr>\n",
       "    <tr>\n",
       "      <th>9</th>\n",
       "      <td>0.016949</td>\n",
       "      <td>0.000000</td>\n",
       "      <td>0.033898</td>\n",
       "      <td>0.000000</td>\n",
       "      <td>0.000000</td>\n",
       "      <td>0.000000</td>\n",
       "      <td>0.000000</td>\n",
       "      <td>0.000000</td>\n",
       "      <td>0.000000</td>\n",
       "      <td>0.000000</td>\n",
       "      <td>...</td>\n",
       "      <td>0.0</td>\n",
       "      <td>0.0</td>\n",
       "      <td>0.0</td>\n",
       "      <td>0.0</td>\n",
       "      <td>0.0</td>\n",
       "      <td>0.0</td>\n",
       "      <td>0.0</td>\n",
       "      <td>0.0</td>\n",
       "      <td>0.0</td>\n",
       "      <td>0.0</td>\n",
       "    </tr>\n",
       "  </tbody>\n",
       "</table>\n",
       "<p>10 rows × 1896 columns</p>\n",
       "</div>"
      ],
      "text/plain": [
       "        the     first       new      york      citi    subway     built  \\\n",
       "0  0.010204  0.005102  0.015306  0.015306  0.030612  0.005102  0.005102   \n",
       "1  0.003390  0.003390  0.000000  0.000000  0.006780  0.000000  0.000000   \n",
       "2  0.017241  0.000000  0.000000  0.000000  0.000000  0.000000  0.000000   \n",
       "3  0.017544  0.000000  0.000000  0.000000  0.005848  0.000000  0.011696   \n",
       "4  0.010526  0.002632  0.000000  0.000000  0.002632  0.000000  0.002632   \n",
       "5  0.000000  0.000000  0.000000  0.000000  0.000000  0.000000  0.000000   \n",
       "6  0.011236  0.000000  0.000000  0.000000  0.000000  0.000000  0.000000   \n",
       "7  0.000000  0.000000  0.000000  0.000000  0.017751  0.005917  0.000000   \n",
       "8  0.020833  0.000000  0.000000  0.000000  0.010417  0.000000  0.000000   \n",
       "9  0.016949  0.000000  0.033898  0.000000  0.000000  0.000000  0.000000   \n",
       "\n",
       "       oper  interborough     rapid  ...  steve  buscemi  penitentiari  upris  \\\n",
       "0  0.005102      0.005102  0.005102  ...    0.0      0.0           0.0    0.0   \n",
       "1  0.000000      0.000000  0.000000  ...    0.0      0.0           0.0    0.0   \n",
       "2  0.000000      0.000000  0.000000  ...    0.0      0.0           0.0    0.0   \n",
       "3  0.000000      0.000000  0.000000  ...    0.0      0.0           0.0    0.0   \n",
       "4  0.000000      0.000000  0.000000  ...    0.0      0.0           0.0    0.0   \n",
       "5  0.000000      0.000000  0.000000  ...    0.0      0.0           0.0    0.0   \n",
       "6  0.000000      0.000000  0.000000  ...    0.0      0.0           0.0    0.0   \n",
       "7  0.000000      0.000000  0.000000  ...    0.0      0.0           0.0    0.0   \n",
       "8  0.000000      0.000000  0.000000  ...    0.0      0.0           0.0    0.0   \n",
       "9  0.000000      0.000000  0.000000  ...    0.0      0.0           0.0    0.0   \n",
       "\n",
       "   winter  bastil  celebr  halloween  tourobscura  april  \n",
       "0     0.0     0.0     0.0        0.0          0.0    0.0  \n",
       "1     0.0     0.0     0.0        0.0          0.0    0.0  \n",
       "2     0.0     0.0     0.0        0.0          0.0    0.0  \n",
       "3     0.0     0.0     0.0        0.0          0.0    0.0  \n",
       "4     0.0     0.0     0.0        0.0          0.0    0.0  \n",
       "5     0.0     0.0     0.0        0.0          0.0    0.0  \n",
       "6     0.0     0.0     0.0        0.0          0.0    0.0  \n",
       "7     0.0     0.0     0.0        0.0          0.0    0.0  \n",
       "8     0.0     0.0     0.0        0.0          0.0    0.0  \n",
       "9     0.0     0.0     0.0        0.0          0.0    0.0  \n",
       "\n",
       "[10 rows x 1896 columns]"
      ]
     },
     "execution_count": 12,
     "metadata": {},
     "output_type": "execute_result"
    }
   ],
   "source": [
    "TFS=[]\n",
    "for i in df.loc[:,\"placeDesc\"]:\n",
    "    tfs={}\n",
    "    dene2=i.split()\n",
    "    for x in dene2:\n",
    "        tfs[x]=dene2.count(x)/len(dene2)\n",
    "    TFS.append(tfs)\n",
    "TFS\n",
    "document_TFs=pd.DataFrame(TFS)\n",
    "document_TFs = document_TFs.fillna(0)\n",
    "\n",
    "document_TFs[:10]\n"
   ]
  },
  {
   "cell_type": "code",
   "execution_count": 13,
   "id": "9bfd7cd8",
   "metadata": {},
   "outputs": [
    {
     "data": {
      "text/plain": [
       "{'termId_0': [[4, 'tfidf=0.002631578947368421']],\n",
       " 'termId_1': [[1, 'tfidf=0.003389830508474576']],\n",
       " 'termId_2': [[3, 'tfidf=0.005847953216374269']],\n",
       " 'termId_3': [[10, 'tfidf=0.01680672268907563'],\n",
       "  [12, 'tfidf=0.00684931506849315'],\n",
       "  [13, 'tfidf=0.005714285714285714']],\n",
       " 'termId_4': [[18, 'tfidf=0.009009009009009009']]}"
      ]
     },
     "execution_count": 13,
     "metadata": {},
     "output_type": "execute_result"
    }
   ],
   "source": [
    "new_inverted_index={i:[] for i in dictionary.values()}#empty inverted indexes\n",
    "for x,y in enumerate(df.loc[:,\"placeDesc\"]):\n",
    "    splitted=y.split()\n",
    "    splitted_tekrarlamaz=set(splitted)\n",
    "    for i in splitted_tekrarlamaz:         \n",
    "        new_inverted_index[dictionary[i]].append([x,f\"tfidf={document_TFs.loc[x][i]}\"])\n",
    "new_inverted_index\n",
    "dict(list(new_inverted_index.items())[0:5])"
   ]
  },
  {
   "cell_type": "markdown",
   "id": "57cd9c49",
   "metadata": {},
   "source": [
    "## 2.2.2) Execute the query\n"
   ]
  },
  {
   "cell_type": "markdown",
   "id": "dfd94ceb",
   "metadata": {},
   "source": [
    "#### Creating relevant dataframe for calculating similarity of query to the document"
   ]
  },
  {
   "cell_type": "code",
   "execution_count": 14,
   "id": "1a53be47",
   "metadata": {},
   "outputs": [],
   "source": [
    "# for every word in query its term_ID is learned from the dictionary and corresponding document numbers in inverted index are\n",
    "#added to the \"rdocs\".These are the documents which has the query words in them.\n",
    "\n",
    "query_input=\"city subway\"\n",
    "query_input=clean_text(query_input)\n",
    "return_list=[]\n",
    "for i in query_input.split():\n",
    "    term=dictionary[i]\n",
    "    return_list.append(set(inverted_index[term]))\n",
    "return_list=[i for i in set.intersection(*return_list)]\n",
    "\n",
    "rdocs=return_list\n",
    "rdocs_numbers=[int(i.split(\"_\")[1]) for i in rdocs]"
   ]
  },
  {
   "cell_type": "markdown",
   "id": "755fb394",
   "metadata": {},
   "source": [
    "#### Number of documents that has the query words"
   ]
  },
  {
   "cell_type": "code",
   "execution_count": 15,
   "id": "f9572c66",
   "metadata": {},
   "outputs": [
    {
     "data": {
      "text/plain": [
       "{'citi': 9, 'subway': 2}"
      ]
     },
     "execution_count": 15,
     "metadata": {},
     "output_type": "execute_result"
    }
   ],
   "source": [
    "dictionary_of_words_query={}\n",
    "for word in query_input.split():\n",
    "    count=0\n",
    "    for document in df.loc[:,\"placeDesc\"]:\n",
    "        if word in document.split():\n",
    "            count+=1\n",
    "    dictionary_of_words_query[word]=count\n",
    "dictionary_of_words_query\n",
    "\n",
    "    \n",
    "    "
   ]
  },
  {
   "cell_type": "markdown",
   "id": "986e7aee",
   "metadata": {},
   "source": [
    "#### TF-IDF's of relevant words in documents"
   ]
  },
  {
   "cell_type": "code",
   "execution_count": 26,
   "id": "fa043379",
   "metadata": {},
   "outputs": [
    {
     "data": {
      "text/html": [
       "<div>\n",
       "<style scoped>\n",
       "    .dataframe tbody tr th:only-of-type {\n",
       "        vertical-align: middle;\n",
       "    }\n",
       "\n",
       "    .dataframe tbody tr th {\n",
       "        vertical-align: top;\n",
       "    }\n",
       "\n",
       "    .dataframe thead th {\n",
       "        text-align: right;\n",
       "    }\n",
       "</style>\n",
       "<table border=\"1\" class=\"dataframe\">\n",
       "  <thead>\n",
       "    <tr style=\"text-align: right;\">\n",
       "      <th></th>\n",
       "      <th>citi</th>\n",
       "      <th>subway</th>\n",
       "    </tr>\n",
       "  </thead>\n",
       "  <tbody>\n",
       "    <tr>\n",
       "      <th>7</th>\n",
       "      <td>0.031926</td>\n",
       "      <td>0.019542</td>\n",
       "    </tr>\n",
       "    <tr>\n",
       "      <th>0</th>\n",
       "      <td>0.055056</td>\n",
       "      <td>0.016850</td>\n",
       "    </tr>\n",
       "  </tbody>\n",
       "</table>\n",
       "</div>"
      ],
      "text/plain": [
       "       citi    subway\n",
       "7  0.031926  0.019542\n",
       "0  0.055056  0.016850"
      ]
     },
     "execution_count": 26,
     "metadata": {},
     "output_type": "execute_result"
    }
   ],
   "source": [
    "rTFIDFS={}\n",
    "for i in query_input.split():\n",
    "    rTFIDFS[i]=[]\n",
    "    tfidfs=[]\n",
    "    dene2=i.split()\n",
    "    for x in rdocs_numbers:\n",
    "        rTFIDFS[i].append(df.loc[:,\"placeDesc\"][x].count(i)/len(df.loc[:,\"placeDesc\"][x].split())*(1+math.log(len(df.loc[:,\"placeDesc\"])/dictionary_of_words_query[i])))\n",
    "document_TFIDFs=pd.DataFrame(rTFIDFS, index=rdocs_numbers)\n",
    "document_TFIDFs[:5]\n"
   ]
  },
  {
   "cell_type": "code",
   "execution_count": 17,
   "id": "f3406a86",
   "metadata": {},
   "outputs": [],
   "source": [
    "#new dataframe for documents including query\n",
    "\n",
    "relevant_df=document_TFIDFs.loc[rdocs_numbers][query_input.split()]\n"
   ]
  },
  {
   "cell_type": "code",
   "execution_count": 24,
   "id": "51bd0a2c",
   "metadata": {},
   "outputs": [
    {
     "data": {
      "text/html": [
       "<div>\n",
       "<style scoped>\n",
       "    .dataframe tbody tr th:only-of-type {\n",
       "        vertical-align: middle;\n",
       "    }\n",
       "\n",
       "    .dataframe tbody tr th {\n",
       "        vertical-align: top;\n",
       "    }\n",
       "\n",
       "    .dataframe thead th {\n",
       "        text-align: right;\n",
       "    }\n",
       "</style>\n",
       "<table border=\"1\" class=\"dataframe\">\n",
       "  <thead>\n",
       "    <tr style=\"text-align: right;\">\n",
       "      <th></th>\n",
       "      <th>citi</th>\n",
       "      <th>subway</th>\n",
       "    </tr>\n",
       "  </thead>\n",
       "  <tbody>\n",
       "    <tr>\n",
       "      <th>7</th>\n",
       "      <td>0.031926</td>\n",
       "      <td>0.019542</td>\n",
       "    </tr>\n",
       "    <tr>\n",
       "      <th>0</th>\n",
       "      <td>0.055056</td>\n",
       "      <td>0.016850</td>\n",
       "    </tr>\n",
       "  </tbody>\n",
       "</table>\n",
       "</div>"
      ],
      "text/plain": [
       "       citi    subway\n",
       "7  0.031926  0.019542\n",
       "0  0.055056  0.016850"
      ]
     },
     "execution_count": 24,
     "metadata": {},
     "output_type": "execute_result"
    }
   ],
   "source": [
    "relevant_df[:10]"
   ]
  },
  {
   "cell_type": "markdown",
   "id": "87d8b4e4",
   "metadata": {},
   "source": [
    "#### Calculating the similarity between query and documents"
   ]
  },
  {
   "cell_type": "code",
   "execution_count": 19,
   "id": "b9113547",
   "metadata": {},
   "outputs": [
    {
     "data": {
      "text/plain": [
       "{'citi': 9, 'subway': 2}"
      ]
     },
     "execution_count": 19,
     "metadata": {},
     "output_type": "execute_result"
    }
   ],
   "source": [
    "dictionary_of_words_query={}\n",
    "for word in relevant_df:\n",
    "    count=0\n",
    "    for document in df.loc[:,\"placeDesc\"]:\n",
    "        if word in document.split():\n",
    "            count+=1\n",
    "    dictionary_of_words_query[word]=count\n",
    "dictionary_of_words_query\n",
    "\n",
    "    \n",
    "    "
   ]
  },
  {
   "cell_type": "code",
   "execution_count": 20,
   "id": "a2d2306b",
   "metadata": {},
   "outputs": [
    {
     "data": {
      "text/plain": [
       "[-0.2520386983881371, 0.5]"
      ]
     },
     "execution_count": 20,
     "metadata": {},
     "output_type": "execute_result"
    }
   ],
   "source": [
    "#TFIDF of query\n",
    "query_tfIDFs=[]\n",
    "for x in query_input.split():\n",
    "    query_tfIDFs.append(query_input.split().count(x)/len(query_input.split())*  (1+math.log(len(query_input.split())/dictionary_of_words_query[x])))\n",
    "query_tfIDFs\n"
   ]
  },
  {
   "cell_type": "code",
   "execution_count": 21,
   "id": "e5321305",
   "metadata": {},
   "outputs": [
    {
     "data": {
      "text/plain": [
       "[-0.0005605578834324423, 0.00011527378617234834]"
      ]
     },
     "execution_count": 21,
     "metadata": {},
     "output_type": "execute_result"
    }
   ],
   "source": [
    "#||Query||\n",
    "add=0\n",
    "for i in query_tfIDFs:\n",
    "    add+=i*i    \n",
    "Query_L=math.sqrt(add)   \n",
    "\n",
    "#Similarities of all documents\n",
    "similarity_list=[]\n",
    "for i in relevant_df.index:\n",
    "    add1=0\n",
    "    for x in relevant_df.loc[i]:\n",
    "        add1+=x*x    \n",
    "    Document_L=math.sqrt(add1)   \n",
    "    similarity_list.append((np.dot(relevant_df.loc[i],query_tfIDFs))/Query_L*Document_L)\n",
    "    #similarity_list.append([i,(np.dot(relevant_df.loc[i],query_tfIDFs))/Query_L*Document_L])\n",
    "\n",
    "sorted(similarity_list)"
   ]
  },
  {
   "cell_type": "markdown",
   "id": "7a1370a1",
   "metadata": {},
   "source": [
    "#### results"
   ]
  },
  {
   "cell_type": "code",
   "execution_count": 22,
   "id": "9399628b",
   "metadata": {},
   "outputs": [],
   "source": [
    "sonuc_new=df_for_last.loc[rdocs_numbers,[\"placeName\",\"placeDesc\",\"placeURL\"]]\n",
    "sonuc_new.insert(3,\"similarity\",sorted(similarity_list))\n",
    "\n",
    "#add similarity list at the end of the dataframe"
   ]
  },
  {
   "cell_type": "code",
   "execution_count": 23,
   "id": "5fda82cc",
   "metadata": {},
   "outputs": [
    {
     "data": {
      "text/html": [
       "<div>\n",
       "<style scoped>\n",
       "    .dataframe tbody tr th:only-of-type {\n",
       "        vertical-align: middle;\n",
       "    }\n",
       "\n",
       "    .dataframe tbody tr th {\n",
       "        vertical-align: top;\n",
       "    }\n",
       "\n",
       "    .dataframe thead th {\n",
       "        text-align: right;\n",
       "    }\n",
       "</style>\n",
       "<table border=\"1\" class=\"dataframe\">\n",
       "  <thead>\n",
       "    <tr style=\"text-align: right;\">\n",
       "      <th></th>\n",
       "      <th>placeName</th>\n",
       "      <th>placeDesc</th>\n",
       "      <th>placeURL</th>\n",
       "      <th>similarity</th>\n",
       "    </tr>\n",
       "  </thead>\n",
       "  <tbody>\n",
       "    <tr>\n",
       "      <th>0</th>\n",
       "      <td>City Hall Station</td>\n",
       "      <td>The first New York City subway was built and o...</td>\n",
       "      <td>https://www.atlasobscura.com/places/city-hall-...</td>\n",
       "      <td>0.000115</td>\n",
       "    </tr>\n",
       "    <tr>\n",
       "      <th>7</th>\n",
       "      <td>Underground Tunnels of Los Angeles</td>\n",
       "      <td>While the rest of the country was forced to go...</td>\n",
       "      <td>https://www.atlasobscura.com/places/undergroun...</td>\n",
       "      <td>-0.000561</td>\n",
       "    </tr>\n",
       "  </tbody>\n",
       "</table>\n",
       "</div>"
      ],
      "text/plain": [
       "                            placeName  \\\n",
       "0                   City Hall Station   \n",
       "7  Underground Tunnels of Los Angeles   \n",
       "\n",
       "                                           placeDesc  \\\n",
       "0  The first New York City subway was built and o...   \n",
       "7  While the rest of the country was forced to go...   \n",
       "\n",
       "                                            placeURL  similarity  \n",
       "0  https://www.atlasobscura.com/places/city-hall-...    0.000115  \n",
       "7  https://www.atlasobscura.com/places/undergroun...   -0.000561  "
      ]
     },
     "execution_count": 23,
     "metadata": {},
     "output_type": "execute_result"
    }
   ],
   "source": [
    "sonuc_new=sonuc_new.sort_values(\"similarity\",ascending=False)\n",
    "sonuc_new"
   ]
  }
 ],
 "metadata": {
  "kernelspec": {
   "display_name": "Python 3 (ipykernel)",
   "language": "python",
   "name": "python3"
  },
  "language_info": {
   "codemirror_mode": {
    "name": "ipython",
    "version": 3
   },
   "file_extension": ".py",
   "mimetype": "text/x-python",
   "name": "python",
   "nbconvert_exporter": "python",
   "pygments_lexer": "ipython3",
   "version": "3.9.12"
  }
 },
 "nbformat": 4,
 "nbformat_minor": 5
}
